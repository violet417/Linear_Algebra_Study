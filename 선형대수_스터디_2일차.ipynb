{
  "nbformat": 4,
  "nbformat_minor": 0,
  "metadata": {
    "colab": {
      "provenance": [],
      "toc_visible": true,
      "authorship_tag": "ABX9TyOF4CyinEBdanxHyw7GLsAa",
      "include_colab_link": true
    },
    "kernelspec": {
      "name": "python3",
      "display_name": "Python 3"
    },
    "language_info": {
      "name": "python"
    }
  },
  "cells": [
    {
      "cell_type": "markdown",
      "metadata": {
        "id": "view-in-github",
        "colab_type": "text"
      },
      "source": [
        "<a href=\"https://colab.research.google.com/github/violet417/Linear_Algebra_Study/blob/main/%EC%84%A0%ED%98%95%EB%8C%80%EC%88%98_%EC%8A%A4%ED%84%B0%EB%94%94_2%EC%9D%BC%EC%B0%A8.ipynb\" target=\"_parent\"><img src=\"https://colab.research.google.com/assets/colab-badge.svg\" alt=\"Open In Colab\"/></a>"
      ]
    },
    {
      "cell_type": "markdown",
      "source": [
        "## 2장 넘파이(NumPy)로 공부하는 선형대수"
      ],
      "metadata": {
        "id": "AqlxirPfB8Nf"
      }
    },
    {
      "cell_type": "markdown",
      "source": [
        "### 2.2 벡터와 행렬의 연산"
      ],
      "metadata": {
        "id": "olM77SFGB9Qg"
      }
    },
    {
      "cell_type": "code",
      "source": [
        "import numpy as np\n",
        "import matplotlib.pyplot as plt"
      ],
      "metadata": {
        "id": "zAbghTfVCkDY"
      },
      "execution_count": null,
      "outputs": []
    },
    {
      "cell_type": "code",
      "execution_count": null,
      "metadata": {
        "colab": {
          "base_uri": "https://localhost:8080/"
        },
        "id": "yqkgUznOB3A-",
        "outputId": "4c32af22-85dc-4da2-8f70-18b8eeaa42bb"
      },
      "outputs": [
        {
          "output_type": "execute_result",
          "data": {
            "text/plain": [
              "array([[32]])"
            ]
          },
          "metadata": {},
          "execution_count": 3
        }
      ],
      "source": [
        "# 벡터와 벡터의 곱셈\n",
        "# 2차원 배열로 표시한 벡터를 내적했을 때는 결과값이 스칼라가 아닌 2차원 배열\n",
        "x = np.array([[1], [2], [3]])\n",
        "y = np.array([[4], [5], [6]])\n",
        "\n",
        "x.T @ y  # 또는 np.dot(x.T, y)"
      ]
    },
    {
      "cell_type": "code",
      "source": [
        "np.dot(x.T, y)"
      ],
      "metadata": {
        "colab": {
          "base_uri": "https://localhost:8080/"
        },
        "id": "kWJaC3uYCfbF",
        "outputId": "90f1f997-a205-45fa-f067-dd2666b14093"
      },
      "execution_count": null,
      "outputs": [
        {
          "output_type": "execute_result",
          "data": {
            "text/plain": [
              "array([[32]])"
            ]
          },
          "metadata": {},
          "execution_count": 4
        }
      ]
    },
    {
      "cell_type": "code",
      "source": [
        "# 1차원 배열끼리도 내적\n",
        "# 넘파이가 앞의 벡터는 행 벡터이고 뒤의 벡터는 열 벡터라고 가정\n",
        "x = np.array([1, 2, 3])\n",
        "y = np.array([4, 5, 6])\n",
        "\n",
        "x @ y  # 또는 np.dot(x, y)"
      ],
      "metadata": {
        "colab": {
          "base_uri": "https://localhost:8080/"
        },
        "id": "pf0PfCtDCypx",
        "outputId": "1e482e89-cc2a-4a1e-e04b-61489efe4349"
      },
      "execution_count": null,
      "outputs": [
        {
          "output_type": "execute_result",
          "data": {
            "text/plain": [
              "32"
            ]
          },
          "metadata": {},
          "execution_count": 5
        }
      ]
    },
    {
      "cell_type": "code",
      "source": [
        "np.dot(x, y)"
      ],
      "metadata": {
        "colab": {
          "base_uri": "https://localhost:8080/"
        },
        "id": "fIL5XdFYDNPa",
        "outputId": "6891f39b-562a-42c1-ee8e-da74ece14bd3"
      },
      "execution_count": null,
      "outputs": [
        {
          "output_type": "execute_result",
          "data": {
            "text/plain": [
              "32"
            ]
          },
          "metadata": {},
          "execution_count": 6
        }
      ]
    },
    {
      "cell_type": "markdown",
      "source": [
        "#### 연습 문제 2.2.1\n",
        "\n",
        "A, B, C 세 회사의 주식은 각각 100만원, 80만원, 50만원이다. 이 주식을 각각 3주, 4주, 5주를 매수할 때 필요한 금액을 구하고자 한다.\n",
        "\n",
        "(1) 주식의 가격과 수량을 각각 $p$ 벡터, $n$ 벡터로 표시하고 넘파이로 코딩한다.\n",
        "\n",
        "(2) 주식을 매수할 때 필요한 금액을 곱셈으로 표시하고 넘파이 연산으로 그 값을 계산한다."
      ],
      "metadata": {
        "id": "rWFXlsXxkp8y"
      }
    },
    {
      "cell_type": "code",
      "source": [
        "p = np.array([[100], [80], [50]])\n",
        "n = np.array([[3], [4], [5]])\n",
        "\n",
        "np.dot(p.T, n)"
      ],
      "metadata": {
        "id": "0URW1R7mDXIl",
        "colab": {
          "base_uri": "https://localhost:8080/"
        },
        "outputId": "cd1ffa9e-cde0-41b9-c3cd-46754dad7d4d"
      },
      "execution_count": null,
      "outputs": [
        {
          "output_type": "execute_result",
          "data": {
            "text/plain": [
              "array([[870]])"
            ]
          },
          "metadata": {},
          "execution_count": 3
        }
      ]
    },
    {
      "cell_type": "code",
      "source": [
        "# 가중평균\n",
        "x = np.arange(10)\n",
        "N = len(x)\n",
        "\n",
        "np.ones(N) @ x / N"
      ],
      "metadata": {
        "colab": {
          "base_uri": "https://localhost:8080/"
        },
        "id": "rgQNoJtpl7gy",
        "outputId": "2eeb8a3d-b984-4b19-a89a-d3028fc27143"
      },
      "execution_count": null,
      "outputs": [
        {
          "output_type": "execute_result",
          "data": {
            "text/plain": [
              "4.5"
            ]
          },
          "metadata": {},
          "execution_count": 4
        }
      ]
    },
    {
      "cell_type": "code",
      "source": [
        "x.mean()"
      ],
      "metadata": {
        "colab": {
          "base_uri": "https://localhost:8080/"
        },
        "id": "mP3pr-T7mdkW",
        "outputId": "9e466b1b-fa38-431a-94a2-a30d8083deb7"
      },
      "execution_count": null,
      "outputs": [
        {
          "output_type": "execute_result",
          "data": {
            "text/plain": [
              "4.5"
            ]
          },
          "metadata": {},
          "execution_count": 5
        }
      ]
    },
    {
      "cell_type": "markdown",
      "source": [
        "#### 연습 문제 2.2.2\n",
        "\n",
        "벡터 $x$의 평균 제거 벡터는 다음과 같이 계산함을 증명하라.\n",
        "\n",
        "$$ \n",
        "\\begin{align}\n",
        "x - \\dfrac{1}{N}\\mathbf{1}_N^Tx \\mathbf{1}^{}_N\n",
        "\\tag{2.2.32}\n",
        "\\end{align}\n",
        "$$"
      ],
      "metadata": {
        "id": "ngrH5PZ0mq5E"
      }
    },
    {
      "cell_type": "code",
      "source": [
        "# 유사도\n",
        "from sklearn.datasets import load_digits\n",
        "import matplotlib.gridspec as gridspec\n",
        "\n",
        "digits = load_digits()\n",
        "d1 = digits.images[0]\n",
        "d2 = digits.images[10]\n",
        "d3 = digits.images[1]\n",
        "d4 = digits.images[11]\n",
        "v1 = d1.reshape(64, 1)\n",
        "v2 = d2.reshape(64, 1)\n",
        "v3 = d3.reshape(64, 1)\n",
        "v4 = d4.reshape(64, 1)\n",
        "\n",
        "plt.figure(figsize=(9, 9))\n",
        "gs = gridspec.GridSpec(1, 8, height_ratios=[1],\n",
        "                       width_ratios=[9, 1, 9, 1, 9, 1, 9, 1])\n",
        "for i in range(4):\n",
        "    plt.subplot(gs[2 * i])\n",
        "    plt.imshow(eval(\"d\" + str(i + 1)), aspect=1,\n",
        "               interpolation='nearest', cmap=plt.cm.bone_r)\n",
        "    plt.grid(False)\n",
        "    plt.xticks([])\n",
        "    plt.yticks([])\n",
        "    plt.title(\"image {}\".format(i + 1))\n",
        "    plt.subplot(gs[2 * i + 1])\n",
        "    plt.imshow(eval(\"v\" + str(i + 1)), aspect=0.25,\n",
        "               interpolation='nearest', cmap=plt.cm.bone_r)\n",
        "    plt.grid(False)\n",
        "    plt.xticks([])\n",
        "    plt.yticks([])\n",
        "    plt.title(\"vector {}\".format(i + 1))\n",
        "plt.tight_layout()\n",
        "plt.show()"
      ],
      "metadata": {
        "colab": {
          "base_uri": "https://localhost:8080/",
          "height": 260
        },
        "id": "pa2K5uK5msVN",
        "outputId": "a07155c6-4072-4b00-a151-078ed91ebdad"
      },
      "execution_count": null,
      "outputs": [
        {
          "output_type": "display_data",
          "data": {
            "text/plain": [
              "<Figure size 648x648 with 8 Axes>"
            ],
            "image/png": "[encoded data removed]"
          },
          "metadata": {}
        }
      ]
    },
    {
      "cell_type": "code",
      "source": [
        "# '0'이미지와 '0'이미지, 또는 '1'이미지와 '1'이미지의 내적값\n",
        "(v1.T @ v2)[0][0], (v3.T @ v4)[0][0]"
      ],
      "metadata": {
        "colab": {
          "base_uri": "https://localhost:8080/"
        },
        "id": "p4LXN5tGnS3E",
        "outputId": "6dded535-88c8-41f0-e5b1-5ef966e36f69"
      },
      "execution_count": null,
      "outputs": [
        {
          "output_type": "execute_result",
          "data": {
            "text/plain": [
              "(3064.0, 3661.0)"
            ]
          },
          "metadata": {},
          "execution_count": 7
        }
      ]
    },
    {
      "cell_type": "code",
      "source": [
        "# '0'이미지와 '1'이미지, 또는 '1'이미지와 '0'이미지의 내적값 → 작다\n",
        "(v1.T @ v3)[0][0], (v1.T @ v4)[0][0], (v2.T @ v3)[0][0], (v2.T @ v4)[0][0]"
      ],
      "metadata": {
        "colab": {
          "base_uri": "https://localhost:8080/"
        },
        "id": "dZ50WYhOnogI",
        "outputId": "591b6c83-e9f6-4e35-9d6e-cde3eb0a8665"
      },
      "execution_count": null,
      "outputs": [
        {
          "output_type": "execute_result",
          "data": {
            "text/plain": [
              "(1866.0, 1883.0, 2421.0, 2479.0)"
            ]
          },
          "metadata": {},
          "execution_count": 9
        }
      ]
    },
    {
      "cell_type": "markdown",
      "source": [
        "#### 연습 문제 2.2.3\n",
        "\n",
        "다음 코드를 실행하면 MNIST 숫자 이미지 전체 데이터를 모두 벡터로 변환하여 하나의 넘파이 행렬 `X`를 만든다.\n",
        "이 행렬을 이용하여 다음 문제를 풀어라.\n",
        "```\n",
        "from sklearn.datasets import load_digits\n",
        "X = load_digits().data\n",
        "```\n",
        "\n",
        "(1) 내적을 이용하여 첫 번째 이미지와 10번째 이미지의 유사도를 구하라.\n",
        "\n",
        "(2) 내적을 이용하여 모든 이미지의 조합에 대해 유사도를 구하라. 어떻게 구현하는 것이 효율적일까? (힌트 : 이 문제는 뒤에서 배울 행렬과 행렬의 곱셈을 이용한다.)"
      ],
      "metadata": {
        "id": "12IT33cpn_hM"
      }
    },
    {
      "cell_type": "code",
      "source": [
        "from sklearn.datasets import load_digits\n",
        "X = load_digits().data\n",
        "\n",
        "# 첫 번째 이미지와 10번째 이미지의 유사도 계산\n",
        "similarity = np.dot(X[0], X[9])\n",
        "\n",
        "print(similarity)"
      ],
      "metadata": {
        "colab": {
          "base_uri": "https://localhost:8080/"
        },
        "id": "Xe4WmS4nn10K",
        "outputId": "61547537-b131-467b-82b8-b6530e4612b2"
      },
      "execution_count": null,
      "outputs": [
        {
          "output_type": "stream",
          "name": "stdout",
          "text": [
            "2807.0\n"
          ]
        }
      ]
    },
    {
      "cell_type": "code",
      "source": [
        "# 모든 이미지의 조합에 대한 유사도 계산\n",
        "similarity_matrix = np.dot(X, X.T)\n",
        "\n",
        "print(len(similarity_matrix))\n",
        "print(similarity_matrix)"
      ],
      "metadata": {
        "colab": {
          "base_uri": "https://localhost:8080/"
        },
        "id": "zpTh9dfNoHJw",
        "outputId": "7b4dc6b1-ac4d-48a6-9ba4-859587192d26"
      },
      "execution_count": null,
      "outputs": [
        {
          "output_type": "stream",
          "name": "stdout",
          "text": [
            "1797\n",
            "[[3070. 1866. 2264. ... 2812. 3006. 2898.]\n",
            " [1866. 4209. 3432. ... 3906. 3083. 3307.]\n",
            " [2264. 3432. 4388. ... 4005. 3063. 3697.]\n",
            " ...\n",
            " [2812. 3906. 4005. ... 5092. 3729. 4598.]\n",
            " [3006. 3083. 3063. ... 3729. 4316. 3850.]\n",
            " [2898. 3307. 3697. ... 4598. 3850. 4938.]]\n"
          ]
        }
      ]
    },
    {
      "cell_type": "code",
      "source": [
        "# 행렬과 행렬의 곱셈\n",
        "A = np.array([[1, 2, 3], [4, 5, 6]])\n",
        "B = np.array([[1, 2], [3, 4], [5, 6]])\n",
        "C = A @ B\n",
        "C"
      ],
      "metadata": {
        "colab": {
          "base_uri": "https://localhost:8080/"
        },
        "id": "7DoQqzlGomiH",
        "outputId": "0d4e84c8-520d-4094-8c06-8ab99c6aa9f7"
      },
      "execution_count": null,
      "outputs": [
        {
          "output_type": "execute_result",
          "data": {
            "text/plain": [
              "array([[22, 28],\n",
              "       [49, 64]])"
            ]
          },
          "metadata": {},
          "execution_count": 16
        }
      ]
    },
    {
      "cell_type": "markdown",
      "source": [
        "#### 연습 문제 2.2.4\n",
        "\n",
        "(1) $A$와 $B$가 위와 같을 때 $AB$를 연습장에 손으로 계산하고 넘파이의 계산 결과와 맞는지 확인한다.\n",
        "\n",
        "\n",
        "(2) 순서를 바꾸어 $BA$를 손으로 계산하고 넘파이의 계산 결과와 맞는지 확인한다. $BA$가 $AB$와 같은가?"
      ],
      "metadata": {
        "id": "QPRxH_ZWvYqV"
      }
    },
    {
      "cell_type": "markdown",
      "source": [
        "$$\n",
        "\\begin{align}\n",
        "A = \\begin{bmatrix} 1 & 2 & 3 \\\\ 4 & 5& 6 \\end{bmatrix}\n",
        "\\end{align}\n",
        "$$\n",
        "\n",
        "$$\n",
        "\\begin{align}\n",
        "B = \\begin{bmatrix} 1 & 2 \\\\ 3 & 4 \\\\ 5 & 6 \\end{bmatrix}\n",
        "\\end{align}\n",
        "$$"
      ],
      "metadata": {
        "id": "KBwShqoqwLSq"
      }
    },
    {
      "cell_type": "code",
      "source": [
        "D = B @ A\n",
        "D"
      ],
      "metadata": {
        "colab": {
          "base_uri": "https://localhost:8080/"
        },
        "id": "2J-kgOohvxzY",
        "outputId": "e40ab10b-7014-4d39-c022-4eca817b4fcf"
      },
      "execution_count": null,
      "outputs": [
        {
          "output_type": "execute_result",
          "data": {
            "text/plain": [
              "array([[ 9, 12, 15],\n",
              "       [19, 26, 33],\n",
              "       [29, 40, 51]])"
            ]
          },
          "metadata": {},
          "execution_count": 17
        }
      ]
    },
    {
      "cell_type": "markdown",
      "source": [
        "(3) $A$, $B$가 다음과 같을 때, $AB$, $BA$를 (계산이 가능하다면) 손으로 계산하고 넘파이의 계산 결과와 맞는지 확인한다. $AB$, $BA$ 모두 계산 가능한가?\n",
        "\n",
        "\n",
        "$$\n",
        "\\begin{align}\n",
        "A = \\begin{bmatrix} 1 & 2 & 3 \\end{bmatrix}\n",
        "\\tag{2.2.45}\n",
        "\\end{align}\n",
        "$$\n",
        "\n",
        "$$\n",
        "\\begin{align}\n",
        "B = \\begin{bmatrix} 4 & 7 \\\\ 5 & 8 \\\\ 6 & 9 \\end{bmatrix}\n",
        "\\tag{2.2.46}\n",
        "\\end{align}\n",
        "$$"
      ],
      "metadata": {
        "id": "nTL6A3IOvwP1"
      }
    },
    {
      "cell_type": "code",
      "source": [
        "#1x3, 3x2 계산 불가"
      ],
      "metadata": {
        "id": "pOBMIlaMvS4e"
      },
      "execution_count": null,
      "outputs": []
    },
    {
      "cell_type": "markdown",
      "source": [
        "(4) $A$, $B$가 다음과 같을 때, $AB$, $BA$를 (계산이 가능하다면) 손으로 계산하고 넘파이의 계산 결과와 맞는지 확인한다. $AB$, $BA$ 모두 계산 가능한가? $BA$의 결과가 $AB$와 같은가?\n",
        "\n",
        "$$\n",
        "\\begin{align}\n",
        "A = \\begin{bmatrix} 1 & 2 \\\\ 3 & 4 \\end{bmatrix}\n",
        "\\tag{2.2.47}\n",
        "\\end{align}\n",
        "$$\n",
        "\n",
        "$$\n",
        "\\begin{align}\n",
        "B = \\begin{bmatrix} 5 & 6 \\\\ 7 & 8 \\end{bmatrix}\n",
        "\\tag{2.2.48}\n",
        "\\end{align}\n",
        "$$\n"
      ],
      "metadata": {
        "id": "1wr3jIcMv1Rw"
      }
    },
    {
      "cell_type": "code",
      "source": [
        "#2x2, xx2 계산 가능\n",
        "A = np.array([[1, 2], [3, 4]])\n",
        "B = np.array([[5, 6], [7, 8]])\n",
        "C = A @ B\n",
        "C"
      ],
      "metadata": {
        "colab": {
          "base_uri": "https://localhost:8080/"
        },
        "id": "L04co4giv0jB",
        "outputId": "9734934f-164c-4463-c274-063724ebde25"
      },
      "execution_count": null,
      "outputs": [
        {
          "output_type": "execute_result",
          "data": {
            "text/plain": [
              "array([[19, 22],\n",
              "       [43, 50]])"
            ]
          },
          "metadata": {},
          "execution_count": 18
        }
      ]
    },
    {
      "cell_type": "code",
      "source": [
        "D = B @ A\n",
        "D"
      ],
      "metadata": {
        "colab": {
          "base_uri": "https://localhost:8080/"
        },
        "id": "UVWodamixW_U",
        "outputId": "e003347e-3847-4b79-bf74-04bc65943477"
      },
      "execution_count": null,
      "outputs": [
        {
          "output_type": "execute_result",
          "data": {
            "text/plain": [
              "array([[23, 34],\n",
              "       [31, 46]])"
            ]
          },
          "metadata": {},
          "execution_count": 19
        }
      ]
    },
    {
      "cell_type": "markdown",
      "source": [
        "(5) $A$가 다음과 같을 때, $AA^T$와 $A^TA$를 손으로 계산하고 넘파이의 계산 결과와 맞는지 확인한다. $AA^T$와 $A^TA$의 크기는 어떠한가? 항상 정방행렬이 되는가?\n",
        "\n",
        "$$\n",
        "\\begin{align}\n",
        "A = \\begin{bmatrix} 1 & 2 \\\\ 3 & 4 \\\\ 5 & 6 \\end{bmatrix}\n",
        "\\tag{2.2.49}\n",
        "\\end{align}\n",
        "$$\n"
      ],
      "metadata": {
        "id": "CIL9c0pQv4rE"
      }
    },
    {
      "cell_type": "code",
      "source": [
        "A = np.array([[1, 2], [3, 4], [5, 6]])\n",
        "print(np.dot(A, A.T))\n",
        "print(np.dot(A.T, A))"
      ],
      "metadata": {
        "colab": {
          "base_uri": "https://localhost:8080/"
        },
        "id": "Ky7CqiOHv7zF",
        "outputId": "082981ca-170f-4693-bafb-ba7f52737d40"
      },
      "execution_count": null,
      "outputs": [
        {
          "output_type": "stream",
          "name": "stdout",
          "text": [
            "[[ 5 11 17]\n",
            " [11 25 39]\n",
            " [17 39 61]]\n",
            "[[35 44]\n",
            " [44 56]]\n"
          ]
        }
      ]
    },
    {
      "cell_type": "code",
      "source": [
        "print(A @ A.T)\n",
        "print(A.T @ A)"
      ],
      "metadata": {
        "colab": {
          "base_uri": "https://localhost:8080/"
        },
        "id": "FgLIUsmNzU-j",
        "outputId": "0a86f449-d019-4e97-952c-34879e04771f"
      },
      "execution_count": null,
      "outputs": [
        {
          "output_type": "stream",
          "name": "stdout",
          "text": [
            "[[ 5 11 17]\n",
            " [11 25 39]\n",
            " [17 39 61]]\n",
            "[[35 44]\n",
            " [44 56]]\n"
          ]
        }
      ]
    },
    {
      "cell_type": "markdown",
      "source": [
        "(6) $x$가 다음과 같을 때, $x^Tx$와 $xx^T$를 손으로 계산하고 넘파이의 계산 결과와 맞는지 확인한다. $x^Tx$와 $xx^T$의 크기는 어떠한가? 어떤 것이 스칼라이고 어떤 것이 정방행렬인가?\n",
        "\n",
        "$$\n",
        "\\begin{align}\n",
        "x = \\begin{bmatrix} 1 \\\\ 2 \\\\ 3 \\end{bmatrix}\n",
        "\\tag{2.2.50}\n",
        "\\end{align}\n",
        "$$"
      ],
      "metadata": {
        "id": "biIE8bPbv8Js"
      }
    },
    {
      "cell_type": "code",
      "source": [
        "x = np.array([[1], [2], [3]])\n",
        "print(np.dot(x.T, x))\n",
        "print(np.dot(x, x.T))"
      ],
      "metadata": {
        "colab": {
          "base_uri": "https://localhost:8080/"
        },
        "id": "6zcMH_njzqWj",
        "outputId": "58aab52f-0f33-4737-caeb-56f15f13fb22"
      },
      "execution_count": null,
      "outputs": [
        {
          "output_type": "stream",
          "name": "stdout",
          "text": [
            "[[14]]\n",
            "[[1 2 3]\n",
            " [2 4 6]\n",
            " [3 6 9]]\n"
          ]
        }
      ]
    },
    {
      "cell_type": "code",
      "source": [
        "# 교환 법칙과 분배 법칙\n",
        "A = np.array([[1, 2], [3, 4]])\n",
        "B = np.array([[5, 6], [7, 8]])\n",
        "C = np.array([[9, 8], [7, 6]])"
      ],
      "metadata": {
        "id": "HPWv3ABRzy1I"
      },
      "execution_count": null,
      "outputs": []
    },
    {
      "cell_type": "code",
      "source": [
        "# AB와 BA의 값은 다른 값이 나오므로 교환법칙이 성립하지 않음\n",
        "print(A @ B, '\\n')\n",
        "print(B @ A)"
      ],
      "metadata": {
        "colab": {
          "base_uri": "https://localhost:8080/"
        },
        "id": "Nukdq73Q1nnX",
        "outputId": "5ad16e79-6161-4882-a83c-77f2aec471ee"
      },
      "execution_count": null,
      "outputs": [
        {
          "output_type": "stream",
          "name": "stdout",
          "text": [
            "[[19 22]\n",
            " [43 50]] \n",
            "\n",
            "[[23 34]\n",
            " [31 46]]\n"
          ]
        }
      ]
    },
    {
      "cell_type": "code",
      "source": [
        "# 분배법칙 성립1\n",
        "print(A @ (B + C),'\\n')\n",
        "print(A @ B + A @ C)"
      ],
      "metadata": {
        "colab": {
          "base_uri": "https://localhost:8080/"
        },
        "id": "LtY5T9mX1xd2",
        "outputId": "8b81390c-2fc4-41c1-e9d8-69b08215c57f"
      },
      "execution_count": null,
      "outputs": [
        {
          "output_type": "stream",
          "name": "stdout",
          "text": [
            "[[42 42]\n",
            " [98 98]] \n",
            "\n",
            "[[42 42]\n",
            " [98 98]]\n"
          ]
        }
      ]
    },
    {
      "cell_type": "code",
      "source": [
        "# 분배법칙 성립2\n",
        "print((A + B) @ C, '\\n')\n",
        "print(A @ C + B @ C)"
      ],
      "metadata": {
        "colab": {
          "base_uri": "https://localhost:8080/"
        },
        "id": "UmX3Ue562ADv",
        "outputId": "edb6c118-7cc3-4b97-e6a0-f479a3bd96ae"
      },
      "execution_count": null,
      "outputs": [
        {
          "output_type": "stream",
          "name": "stdout",
          "text": [
            "[[110  96]\n",
            " [174 152]] \n",
            "\n",
            "[[110  96]\n",
            " [174 152]]\n"
          ]
        }
      ]
    },
    {
      "cell_type": "code",
      "source": [
        "print((A + B).T, '\\n')\n",
        "print(A.T + B.T)"
      ],
      "metadata": {
        "colab": {
          "base_uri": "https://localhost:8080/"
        },
        "id": "fm3QRBeA2EFF",
        "outputId": "57059baf-9f9a-41dc-dc83-4a3c066fe764"
      },
      "execution_count": null,
      "outputs": [
        {
          "output_type": "stream",
          "name": "stdout",
          "text": [
            "[[ 6 10]\n",
            " [ 8 12]] \n",
            "\n",
            "[[ 6 10]\n",
            " [ 8 12]]\n"
          ]
        }
      ]
    },
    {
      "cell_type": "code",
      "source": [
        "print((A @ B).T, '\\n')\n",
        "print(B.T @ A.T)"
      ],
      "metadata": {
        "colab": {
          "base_uri": "https://localhost:8080/"
        },
        "id": "POD5FiL22xXQ",
        "outputId": "dd68d8b1-c53e-4ebf-bfa0-64a8803e7638"
      },
      "execution_count": null,
      "outputs": [
        {
          "output_type": "stream",
          "name": "stdout",
          "text": [
            "[[19 43]\n",
            " [22 50]] \n",
            "\n",
            "[[19 43]\n",
            " [22 50]]\n"
          ]
        }
      ]
    },
    {
      "cell_type": "markdown",
      "source": [
        "#### 연습 문제 2.2.5\n",
        "\n",
        "(1) 길이가 같은 일벡터 $1_N \\in \\mathbf{R}^N$와 행벡터 $x \\in \\mathbf{R}^N$의 곱은 행벡터 $x$를 반복하여 가지는 행렬과 같음을 보여라.\n",
        "\n",
        "$$\n",
        "\\begin{align}\n",
        "\\mathbf{1}_N^{} x^T\n",
        "=\n",
        "\\begin{bmatrix}\n",
        "{x}^T \\\\\n",
        "{x}^T \\\\\n",
        "\\vdots    \\\\\n",
        "{x}^T \\\\\n",
        "\\end{bmatrix}\n",
        "\\tag{2.2.62}\n",
        "\\end{align}\n",
        "$$"
      ],
      "metadata": {
        "id": "9nsSjblr3MRA"
      }
    },
    {
      "cell_type": "code",
      "source": [],
      "metadata": {
        "id": "09o-SnXc23Fu"
      },
      "execution_count": null,
      "outputs": []
    },
    {
      "cell_type": "markdown",
      "source": [
        "(2) 행렬 $X \\,( X \\in \\mathbf{R}^{N \\times M})$가 있을 때, 이 행렬의 각 열의 평균으로 이루어진 벡터 $\\bar{x}\\,( \\bar{x} \\in \\mathbf{R}^{M})$가 다음과 같음을 보여라.\n",
        "\n",
        "$$ \n",
        "\\begin{align}\n",
        "\\bar{x} = \\dfrac{1}{N} X^T \\mathbf{1}_N  \n",
        "\\tag{2.2.63}\n",
        "\\end{align}\n",
        "$$"
      ],
      "metadata": {
        "id": "RbYqqs9L3bvK"
      }
    },
    {
      "cell_type": "code",
      "source": [],
      "metadata": {
        "id": "kO8xUxQV3Pph"
      },
      "execution_count": null,
      "outputs": []
    },
    {
      "cell_type": "markdown",
      "source": [
        "(3) 행렬 $\\bar{X}\\ ( \\bar{X} \\in \\mathbf{R}^{N \\times M})$는 동일한 벡터 $\\bar{x}^T$를 $N$개 누적하여 만든 행렬이다. 즉 각 열의 모든 값이 그 열의 평균으로 이루어진 행렬이다.\n",
        "\n",
        "$$\n",
        "\\begin{align}\n",
        "\\bar{X} =\n",
        "\\begin{bmatrix}\n",
        "\\bar{x}^T \\\\\n",
        "\\bar{x}^T \\\\\n",
        "\\vdots\\\\\n",
        "\\bar{x}^T \\\\\n",
        "\\end{bmatrix}\n",
        "\\tag{2.2.64}\n",
        "\\end{align}\n",
        "$$\n",
        "\n",
        "이때 $\\bar{X}$가 다음과 같음을 보여라.\n",
        "\n",
        "$$ \n",
        "\\begin{align}\n",
        "\\bar{X} = \\dfrac{1}{N} \\mathbf{1}_N^{} \\mathbf{1}_N^T X \n",
        "\\tag{2.2.65}\n",
        "\\end{align}\n",
        "$$"
      ],
      "metadata": {
        "id": "FH6KArG13l6l"
      }
    },
    {
      "cell_type": "code",
      "source": [],
      "metadata": {
        "id": "seWMFFk83PmQ"
      },
      "execution_count": null,
      "outputs": []
    },
    {
      "cell_type": "markdown",
      "source": [
        "(4) 다음 코드를 실행하면 붓꽃 전체 데이터를 모두 벡터로 변환하여 하나의 넘파이 행렬  X 를 만든다. \n",
        "\n",
        "```\n",
        "from sklearn.datasets import load_iris\n",
        "X = load_iris().data\n",
        "```\n",
        "이 데이터로 행렬 $\\bar{X}$의 값을 계산하라. 이 행렬은 첫 번째 열의 값이 모두 같은 값으로 붓꽃의 꽃받침의 길이(sepal length)의 평균이고 두 번째 열의 값이 모두 같은 값으로 붓꽃의 꽃받침의 폭(sepal width)의 평균,  이런 식으로 계산된 행렬이다."
      ],
      "metadata": {
        "id": "hWuIgsQ_3nW2"
      }
    },
    {
      "cell_type": "code",
      "source": [],
      "metadata": {
        "id": "aIb2VvUA3NuI"
      },
      "execution_count": null,
      "outputs": []
    },
    {
      "cell_type": "code",
      "source": [
        "# 항등행렬의 곱셈\n",
        "A = np.array([[1, 2], [3, 4]])\n",
        "I = np.eye(2)\n",
        "A @ I"
      ],
      "metadata": {
        "colab": {
          "base_uri": "https://localhost:8080/"
        },
        "id": "tkB09_Ez4j0L",
        "outputId": "63153529-2746-4680-e2f3-7bcfa4f79919"
      },
      "execution_count": null,
      "outputs": [
        {
          "output_type": "execute_result",
          "data": {
            "text/plain": [
              "array([[1., 2.],\n",
              "       [3., 4.]])"
            ]
          },
          "metadata": {},
          "execution_count": 38
        }
      ]
    },
    {
      "cell_type": "code",
      "source": [
        "I @ A"
      ],
      "metadata": {
        "colab": {
          "base_uri": "https://localhost:8080/"
        },
        "id": "SVNYG8Nd4jwr",
        "outputId": "01c3ebee-d40a-4cd8-c088-feda5397fb6b"
      },
      "execution_count": null,
      "outputs": [
        {
          "output_type": "execute_result",
          "data": {
            "text/plain": [
              "array([[1., 2.],\n",
              "       [3., 4.]])"
            ]
          },
          "metadata": {},
          "execution_count": 39
        }
      ]
    },
    {
      "cell_type": "markdown",
      "source": [
        "#### 연습 문제 2.2.8\n",
        "\n",
        "벡터 $v_1, v_2, v_3$로 이루어진 행렬 $V$와 벡터 $\\lambda$에 대해 다음 식이 성립함을 증명하라. 이 식에서 $\\lambda_1$는 스칼라이다.\n",
        "\n",
        "$$\n",
        "\\begin{align}\n",
        "V\\lambda = \n",
        "\\begin{bmatrix}\n",
        "v_1 & v_2 & v_3\n",
        "\\end{bmatrix}\n",
        "\\begin{bmatrix}\n",
        "\\lambda_{1} \\\\ 0 \\\\ 0 \n",
        "\\end{bmatrix}\n",
        "= \\lambda_1 v_1 \n",
        "\\tag{2.2.75}\n",
        "\\end{align}\n",
        "$$"
      ],
      "metadata": {
        "id": "OMs2sL8Z5dpI"
      }
    },
    {
      "cell_type": "code",
      "source": [],
      "metadata": {
        "id": "XiMFK9a14jrD"
      },
      "execution_count": null,
      "outputs": []
    },
    {
      "cell_type": "markdown",
      "source": [
        "벡터의 선형조합은 다양한 분야에 응용된다. 예를 들어 두 이미지 벡터의 선형조합은 두 이미지를 섞어놓은 모핑(morphing) 효과를 얻는 데 사용할 수 있다."
      ],
      "metadata": {
        "id": "FgaoZS0T5i7V"
      }
    },
    {
      "cell_type": "code",
      "source": [
        "from sklearn.datasets import fetch_olivetti_faces\n",
        "\n",
        "faces = fetch_olivetti_faces()\n",
        "\n",
        "f, ax = plt.subplots(1, 3)\n",
        "\n",
        "ax[0].imshow(faces.images[6], cmap=plt.cm.bone)\n",
        "ax[0].grid(False)\n",
        "ax[0].set_xticks([])\n",
        "ax[0].set_yticks([])\n",
        "ax[0].set_title(\"image 1: $x_1$\")\n",
        "\n",
        "ax[1].imshow(faces.images[10], cmap=plt.cm.bone)\n",
        "ax[1].grid(False)\n",
        "ax[1].set_xticks([])\n",
        "ax[1].set_yticks([])\n",
        "ax[1].set_title(\"image 2: $x_2$\")\n",
        "\n",
        "new_face = 0.7 * faces.images[6] + 0.3 * faces.images[10]\n",
        "ax[2].imshow(new_face, cmap=plt.cm.bone)\n",
        "ax[2].grid(False)\n",
        "ax[2].set_xticks([])\n",
        "ax[2].set_yticks([])\n",
        "ax[2].set_title(\"image 3: $0.7x_1 + 0.3x_2$\")\n",
        "\n",
        "plt.show()"
      ],
      "metadata": {
        "colab": {
          "base_uri": "https://localhost:8080/",
          "height": 169
        },
        "id": "MLFj-q2k5kb8",
        "outputId": "1fec717e-75e9-4763-996f-8d6b34fd6e40"
      },
      "execution_count": null,
      "outputs": [
        {
          "output_type": "stream",
          "name": "stdout",
          "text": [
            "downloading Olivetti faces from https://ndownloader.figshare.com/files/5976027 to /root/scikit_learn_data\n"
          ]
        },
        {
          "output_type": "display_data",
          "data": {
            "text/plain": [
              "<Figure size 432x288 with 3 Axes>"
            ],
            "image/png": "[encoded data removed]"
          },
          "metadata": {}
        }
      ]
    },
    {
      "cell_type": "markdown",
      "source": [
        "#### 연습 문제 2.2.9\n",
        "\n",
        "$x_1$, $x_2$가 다음과 같을 때,\n",
        "$$\n",
        "\\begin{align}\n",
        "x_1 = \n",
        "\\begin{bmatrix}\n",
        "x_{11} \\\\\n",
        "x_{21} \\\\\n",
        "x_{31} \\\\\n",
        "\\end{bmatrix}\n",
        "\\;\\;\n",
        "x_2 = \n",
        "\\begin{bmatrix}\n",
        "x_{12} \\\\\n",
        "x_{22} \\\\\n",
        "x_{32} \\\\\n",
        "\\end{bmatrix}\n",
        "\\tag{2.2.78}\n",
        "\\end{align}\n",
        "$$\n",
        "\n",
        "다음 등식이 성립함을 보인다.\n",
        "\n",
        "$$\n",
        "\\begin{align}\n",
        "Xw =\n",
        "\\begin{bmatrix}\n",
        "x_1^T \\\\\n",
        "x_2^T \\\\\n",
        "\\end{bmatrix}\n",
        "\\begin{bmatrix}\n",
        "w_1 \\\\ w_2 \\\\ w_3\n",
        "\\end{bmatrix}\n",
        "=\n",
        "\\begin{bmatrix}\n",
        "x_1^Tw \\\\\n",
        "x_2^Tw \\\\\n",
        "\\end{bmatrix}\n",
        "\\tag{2.2.79}\n",
        "\\end{align}\n",
        "$$"
      ],
      "metadata": {
        "id": "jITGx-FL6h0Y"
      }
    },
    {
      "cell_type": "code",
      "source": [
        "# 이차형식\n",
        "x = np.array([1, 2, 3])\n",
        "x"
      ],
      "metadata": {
        "colab": {
          "base_uri": "https://localhost:8080/"
        },
        "id": "SEBJiVHw6jBQ",
        "outputId": "fb444904-021b-46d7-ff9f-49af647cbeeb"
      },
      "execution_count": null,
      "outputs": [
        {
          "output_type": "execute_result",
          "data": {
            "text/plain": [
              "array([1, 2, 3])"
            ]
          },
          "metadata": {},
          "execution_count": 41
        }
      ]
    },
    {
      "cell_type": "code",
      "source": [
        "A = np.arange(1, 10).reshape(3, 3)\n",
        "A"
      ],
      "metadata": {
        "colab": {
          "base_uri": "https://localhost:8080/"
        },
        "id": "koETU7Nq6joC",
        "outputId": "ba239275-0780-48d7-99b1-5b7e108408d7"
      },
      "execution_count": null,
      "outputs": [
        {
          "output_type": "execute_result",
          "data": {
            "text/plain": [
              "array([[1, 2, 3],\n",
              "       [4, 5, 6],\n",
              "       [7, 8, 9]])"
            ]
          },
          "metadata": {},
          "execution_count": 42
        }
      ]
    },
    {
      "cell_type": "code",
      "source": [
        "x.T @ A @ x"
      ],
      "metadata": {
        "colab": {
          "base_uri": "https://localhost:8080/"
        },
        "id": "aIyUgqKO6jlQ",
        "outputId": "176eae05-703c-48a5-ad96-de2205d533dc"
      },
      "execution_count": null,
      "outputs": [
        {
          "output_type": "execute_result",
          "data": {
            "text/plain": [
              "228"
            ]
          },
          "metadata": {},
          "execution_count": 43
        }
      ]
    },
    {
      "cell_type": "code",
      "source": [
        "import numpy as np"
      ],
      "metadata": {
        "id": "fhQwiqb26jip"
      },
      "execution_count": null,
      "outputs": []
    },
    {
      "cell_type": "code",
      "source": [
        "arr1 = [[1, 4], [3, 2], [4, 1]]\n",
        "arr2 = [[3, 3], [3, 3]]"
      ],
      "metadata": {
        "id": "JFuLNUDr6jfZ"
      },
      "execution_count": null,
      "outputs": []
    },
    {
      "cell_type": "code",
      "source": [
        "a = np.array(arr1)\n",
        "b = np.array(arr2)"
      ],
      "metadata": {
        "id": "N1fto-Oe6jYI"
      },
      "execution_count": null,
      "outputs": []
    },
    {
      "cell_type": "code",
      "source": [
        "a@b"
      ],
      "metadata": {
        "id": "KOVqYEXXdu81",
        "outputId": "288d3b04-5630-4907-ae75-2dd31398cc08",
        "colab": {
          "base_uri": "https://localhost:8080/"
        }
      },
      "execution_count": null,
      "outputs": [
        {
          "output_type": "execute_result",
          "data": {
            "text/plain": [
              "array([[15, 15],\n",
              "       [15, 15],\n",
              "       [15, 15]])"
            ]
          },
          "metadata": {},
          "execution_count": 6
        }
      ]
    },
    {
      "cell_type": "code",
      "source": [],
      "metadata": {
        "id": "NJ4N8utMdv31"
      },
      "execution_count": null,
      "outputs": []
    }
  ]
}